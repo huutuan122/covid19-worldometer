{
 "cells": [
  {
   "cell_type": "code",
   "execution_count": 1,
   "metadata": {},
   "outputs": [],
   "source": [
    "import pandas as pd\n",
    "import numpy as np\n",
    "import matplotlib.pyplot as plt\n",
    "from datetime import datetime, timedelta\n",
    "import os"
   ]
  },
  {
   "cell_type": "code",
   "execution_count": 2,
   "metadata": {},
   "outputs": [
    {
     "data": {
      "text/plain": [
       "['3-12-2021.csv',\n",
       " '23-2-2022.csv',\n",
       " '26-2-2022.csv',\n",
       " '6-12-2021.csv',\n",
       " '12-12-2021.csv',\n",
       " '11-12-2021.csv',\n",
       " '5-12-2021.csv',\n",
       " '24-2-2022.csv',\n",
       " '9-12-2021.csv',\n",
       " '27-2-2022.csv',\n",
       " '7-12-2021.csv',\n",
       " '30-11-2021.csv',\n",
       " '2-12-2021.csv',\n",
       " '1-12-2021.csv',\n",
       " '25-2-2022.csv',\n",
       " '8-12-2021.csv',\n",
       " '28-2-2022.csv',\n",
       " '4-12-2021.csv',\n",
       " '10-12-2021.csv']"
      ]
     },
     "execution_count": 2,
     "metadata": {},
     "output_type": "execute_result"
    }
   ],
   "source": [
    "files = os.listdir(\"./data\")\n",
    "files"
   ]
  },
  {
   "cell_type": "code",
   "execution_count": 3,
   "metadata": {},
   "outputs": [],
   "source": [
    "for file in files:\n",
    "    df = pd.read_csv(\"./data/\" + file, sep = '\\t', index_col = 0)\n",
    "    change = ['TotalDeaths', 'NewCases',  'NewDeaths', 'TotalRecovered', 'NewRecovered', 'ActiveCases', 'Serious,Critical',\\\n",
    "          'TotalTests', 'Population', 'TotCases/1M pop', 'Deaths/1M pop', 'Tests/1M pop', '1 Caseevery X ppl',\\\n",
    "          '1 Deathevery X ppl', '1 Testevery X ppl', 'Active Cases/1M pop']\n",
    "    change_float = ['New Cases/1M pop', 'New Deaths/1M pop']\n",
    "    for col in change:\n",
    "        df[col] = df[col].replace(np.nan, 0)\n",
    "        df[col] = df[col].astype(int)\n",
    "    for col in change_float:\n",
    "        df[col] = df[col].replace(np.nan,0.0)\n",
    "\n",
    "    temp = file.split('.')\n",
    "    temp_date = temp[0].split('-')\n",
    "    if (int(temp_date[0])<10):\n",
    "        temp_date[0] = '0'+ temp_date[0]\n",
    "    df.to_csv(f'./data_process/{temp_date[1]}-{temp_date[0]}-{temp_date[2]}.csv', sep = '\\t', index = False)"
   ]
  },
  {
   "cell_type": "code",
   "execution_count": null,
   "metadata": {},
   "outputs": [],
   "source": []
  }
 ],
 "metadata": {
  "interpreter": {
   "hash": "8cf9fbd0b8404a376c9ba733328dc0f7ea810d41b179449200777f33389148e5"
  },
  "kernelspec": {
   "display_name": "Python 3.8.8 64-bit ('min_ds-env': conda)",
   "language": "python",
   "name": "python3"
  },
  "language_info": {
   "codemirror_mode": {
    "name": "ipython",
    "version": 3
   },
   "file_extension": ".py",
   "mimetype": "text/x-python",
   "name": "python",
   "nbconvert_exporter": "python",
   "pygments_lexer": "ipython3",
   "version": "3.8.8"
  },
  "orig_nbformat": 4
 },
 "nbformat": 4,
 "nbformat_minor": 2
}
